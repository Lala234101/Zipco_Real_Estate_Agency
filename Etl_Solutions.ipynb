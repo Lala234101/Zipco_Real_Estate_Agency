{
 "cells": [
  {
   "cell_type": "markdown",
   "id": "3bfb0652",
   "metadata": {},
   "source": [
    "## Extraction "
   ]
  },
  {
   "cell_type": "markdown",
   "id": "cf4c64a1",
   "metadata": {},
   "source": [
    "### 1. Import neccessary libraries"
   ]
  },
  {
   "cell_type": "code",
   "execution_count": 14,
   "id": "e7ee3b75",
   "metadata": {},
   "outputs": [],
   "source": [
    "import requests\n",
    "import pandas as pd\n",
    "import psycopg2\n",
    "import json"
   ]
  },
  {
   "cell_type": "markdown",
   "id": "bf1975e8",
   "metadata": {},
   "source": [
    "### 2. Carry out extraction"
   ]
  },
  {
   "cell_type": "code",
   "execution_count": 9,
   "id": "a6f7b420",
   "metadata": {},
   "outputs": [],
   "source": [
    "url = \"https://api.rentcast.io/v1/listings/rental/long-term?city=Austin&state=TX&status=Active&limit=5\"\n",
    "\n",
    "headers = {\"accept\": \"application/json\", \"X-Api-Key\": \"31fae667620f4601bd40b0f6d2273618\"}\n",
    "\n",
    "response = requests.get(url, headers=headers)"
   ]
  },
  {
   "cell_type": "code",
   "execution_count": 10,
   "id": "01f751ad",
   "metadata": {},
   "outputs": [
    {
     "name": "stdout",
     "output_type": "stream",
     "text": [
      "[{'id': '2200A-Rio-Grande-St,-Austin,-TX-78705', 'formattedAddress': '2200A Rio Grande St, Austin, TX 78705', 'addressLine1': '2200A Rio Grande St', 'addressLine2': None, 'city': 'Austin', 'state': 'TX', 'zipCode': '78705', 'county': 'Travis', 'latitude': 30.285497, 'longitude': -97.745112, 'propertyType': 'Single Family', 'bedrooms': 3, 'bathrooms': 1, 'squareFootage': 1637, 'status': 'Active', 'price': 2500, 'listingType': 'Standard', 'listedDate': '2025-08-21T00:00:00.000Z', 'removedDate': None, 'createdDate': '2019-05-17T18:40:17.882Z', 'lastSeenDate': '2025-08-21T03:55:22.610Z', 'daysOnMarket': 1, 'history': {'2025-05-09': {'event': 'Rental Listing', 'price': 2850, 'listingType': 'Standard', 'listedDate': '2025-05-09T00:00:00.000Z', 'removedDate': '2025-05-10T00:00:00.000Z', 'daysOnMarket': 1}, '2025-06-07': {'event': 'Rental Listing', 'price': 2850, 'listingType': 'Standard', 'listedDate': '2025-06-07T00:00:00.000Z', 'removedDate': '2025-06-08T00:00:00.000Z', 'daysOnMarket': 1}, '2025-06-17': {'event': 'Rental Listing', 'price': 2850, 'listingType': 'Standard', 'listedDate': '2025-06-17T00:00:00.000Z', 'removedDate': '2025-06-18T00:00:00.000Z', 'daysOnMarket': 1}, '2025-07-07': {'event': 'Rental Listing', 'price': 2850, 'listingType': 'Standard', 'listedDate': '2025-07-07T00:00:00.000Z', 'removedDate': '2025-07-08T00:00:00.000Z', 'daysOnMarket': 1}, '2025-07-29': {'event': 'Rental Listing', 'price': 2700, 'listingType': 'Standard', 'listedDate': '2025-07-29T00:00:00.000Z', 'removedDate': '2025-07-30T00:00:00.000Z', 'daysOnMarket': 1}, '2025-08-21': {'event': 'Rental Listing', 'price': 2500, 'listingType': 'Standard', 'listedDate': '2025-08-21T00:00:00.000Z', 'removedDate': None, 'daysOnMarket': 1}}}, {'id': '11701-Ruffed-Grouse-Dr,-Austin,-TX-78758', 'formattedAddress': '11701 Ruffed Grouse Dr, Austin, TX 78758', 'addressLine1': '11701 Ruffed Grouse Dr', 'addressLine2': None, 'city': 'Austin', 'state': 'TX', 'zipCode': '78758', 'county': 'Travis', 'latitude': 30.393156, 'longitude': -97.699847, 'propertyType': 'Single Family', 'bedrooms': 3, 'bathrooms': 2.5, 'squareFootage': 1444, 'status': 'Active', 'price': 1995, 'listingType': 'Standard', 'listedDate': '2025-08-21T00:00:00.000Z', 'removedDate': None, 'createdDate': '2019-09-27T03:32:42.191Z', 'lastSeenDate': '2025-08-21T03:55:22.609Z', 'daysOnMarket': 1, 'history': {'2025-08-21': {'event': 'Rental Listing', 'price': 1995, 'listingType': 'Standard', 'listedDate': '2025-08-21T00:00:00.000Z', 'removedDate': None, 'daysOnMarket': 1}}}, {'id': '7905-Alophia-Dr,-Austin,-TX-78739', 'formattedAddress': '7905 Alophia Dr, Austin, TX 78739', 'addressLine1': '7905 Alophia Dr', 'addressLine2': None, 'city': 'Austin', 'state': 'TX', 'zipCode': '78739', 'county': 'Travis', 'latitude': 30.188719, 'longitude': -97.921667, 'propertyType': 'Single Family', 'bedrooms': 4, 'bathrooms': 3, 'squareFootage': 2565, 'status': 'Active', 'price': 3100, 'listingType': 'Standard', 'listedDate': '2025-08-21T00:00:00.000Z', 'removedDate': None, 'createdDate': '2025-08-12T00:00:00.000Z', 'lastSeenDate': '2025-08-21T03:55:22.609Z', 'daysOnMarket': 1, 'history': {'2025-08-21': {'event': 'Rental Listing', 'price': 3100, 'listingType': 'Standard', 'listedDate': '2025-08-21T00:00:00.000Z', 'removedDate': None, 'daysOnMarket': 1}}}, {'id': '2510-San-Gabriel-St,-Apt-301,-Austin,-TX-78705', 'formattedAddress': '2510 San Gabriel St, Apt 301, Austin, TX 78705', 'addressLine1': '2510 San Gabriel St', 'addressLine2': 'Apt 301', 'city': 'Austin', 'state': 'TX', 'zipCode': '78705', 'county': 'Travis', 'latitude': 30.29063, 'longitude': -97.747816, 'propertyType': 'Condo', 'bedrooms': 2, 'bathrooms': 2, 'squareFootage': 800, 'lotSize': 919, 'yearBuilt': 1984, 'status': 'Active', 'price': 1400, 'listingType': 'Standard', 'listedDate': '2025-08-21T00:00:00.000Z', 'removedDate': None, 'createdDate': '2024-05-04T00:00:00.000Z', 'lastSeenDate': '2025-08-21T03:55:22.608Z', 'daysOnMarket': 1, 'history': {'2025-08-21': {'event': 'Rental Listing', 'price': 1400, 'listingType': 'Standard', 'listedDate': '2025-08-21T00:00:00.000Z', 'removedDate': None, 'daysOnMarket': 1}}}, {'id': '1010-W-26th-St,---407,-Austin,-TX-78705', 'formattedAddress': '1010 W 26th St, # 407, Austin, TX 78705', 'addressLine1': '1010 W 26th St', 'addressLine2': '# 407', 'city': 'Austin', 'state': 'TX', 'zipCode': '78705', 'county': 'Travis', 'latitude': 30.291246, 'longitude': -97.748886, 'propertyType': 'Apartment', 'bedrooms': 1, 'bathrooms': 1, 'squareFootage': 450, 'status': 'Active', 'price': 1100, 'listingType': 'Standard', 'listedDate': '2025-08-21T00:00:00.000Z', 'removedDate': None, 'createdDate': '2025-08-21T00:00:00.000Z', 'lastSeenDate': '2025-08-21T03:55:22.607Z', 'daysOnMarket': 1, 'history': {'2025-08-21': {'event': 'Rental Listing', 'price': 1100, 'listingType': 'Standard', 'listedDate': '2025-08-21T00:00:00.000Z', 'removedDate': None, 'daysOnMarket': 1}}}]\n"
     ]
    }
   ],
   "source": [
    "print(response.json())"
   ]
  },
  {
   "cell_type": "code",
   "execution_count": 15,
   "id": "2ce6c6af",
   "metadata": {},
   "outputs": [],
   "source": [
    "data = response.json()\n",
    "\n",
    "file_name = 'real_estate.json'\n",
    "\n",
    "with open(file_name, 'w') as file:\n",
    "    json.dump(data, file, indent=4)"
   ]
  },
  {
   "cell_type": "code",
   "execution_count": 18,
   "id": "6b57cd90",
   "metadata": {},
   "outputs": [
    {
     "data": {
      "text/html": [
       "<div>\n",
       "<style scoped>\n",
       "    .dataframe tbody tr th:only-of-type {\n",
       "        vertical-align: middle;\n",
       "    }\n",
       "\n",
       "    .dataframe tbody tr th {\n",
       "        vertical-align: top;\n",
       "    }\n",
       "\n",
       "    .dataframe thead th {\n",
       "        text-align: right;\n",
       "    }\n",
       "</style>\n",
       "<table border=\"1\" class=\"dataframe\">\n",
       "  <thead>\n",
       "    <tr style=\"text-align: right;\">\n",
       "      <th></th>\n",
       "      <th>id</th>\n",
       "      <th>formattedAddress</th>\n",
       "      <th>addressLine1</th>\n",
       "      <th>addressLine2</th>\n",
       "      <th>city</th>\n",
       "      <th>state</th>\n",
       "      <th>zipCode</th>\n",
       "      <th>county</th>\n",
       "      <th>latitude</th>\n",
       "      <th>longitude</th>\n",
       "      <th>...</th>\n",
       "      <th>price</th>\n",
       "      <th>listingType</th>\n",
       "      <th>listedDate</th>\n",
       "      <th>removedDate</th>\n",
       "      <th>createdDate</th>\n",
       "      <th>lastSeenDate</th>\n",
       "      <th>daysOnMarket</th>\n",
       "      <th>history</th>\n",
       "      <th>lotSize</th>\n",
       "      <th>yearBuilt</th>\n",
       "    </tr>\n",
       "  </thead>\n",
       "  <tbody>\n",
       "    <tr>\n",
       "      <th>0</th>\n",
       "      <td>2200A-Rio-Grande-St,-Austin,-TX-78705</td>\n",
       "      <td>2200A Rio Grande St, Austin, TX 78705</td>\n",
       "      <td>2200A Rio Grande St</td>\n",
       "      <td>None</td>\n",
       "      <td>Austin</td>\n",
       "      <td>TX</td>\n",
       "      <td>78705</td>\n",
       "      <td>Travis</td>\n",
       "      <td>30.285497</td>\n",
       "      <td>-97.745112</td>\n",
       "      <td>...</td>\n",
       "      <td>2500</td>\n",
       "      <td>Standard</td>\n",
       "      <td>2025-08-21T00:00:00.000Z</td>\n",
       "      <td>NaN</td>\n",
       "      <td>2019-05-17T18:40:17.882Z</td>\n",
       "      <td>2025-08-21T03:55:22.610Z</td>\n",
       "      <td>1</td>\n",
       "      <td>{'2025-05-09': {'event': 'Rental Listing', 'pr...</td>\n",
       "      <td>NaN</td>\n",
       "      <td>NaN</td>\n",
       "    </tr>\n",
       "    <tr>\n",
       "      <th>1</th>\n",
       "      <td>11701-Ruffed-Grouse-Dr,-Austin,-TX-78758</td>\n",
       "      <td>11701 Ruffed Grouse Dr, Austin, TX 78758</td>\n",
       "      <td>11701 Ruffed Grouse Dr</td>\n",
       "      <td>None</td>\n",
       "      <td>Austin</td>\n",
       "      <td>TX</td>\n",
       "      <td>78758</td>\n",
       "      <td>Travis</td>\n",
       "      <td>30.393156</td>\n",
       "      <td>-97.699847</td>\n",
       "      <td>...</td>\n",
       "      <td>1995</td>\n",
       "      <td>Standard</td>\n",
       "      <td>2025-08-21T00:00:00.000Z</td>\n",
       "      <td>NaN</td>\n",
       "      <td>2019-09-27T03:32:42.191Z</td>\n",
       "      <td>2025-08-21T03:55:22.609Z</td>\n",
       "      <td>1</td>\n",
       "      <td>{'2025-08-21': {'event': 'Rental Listing', 'pr...</td>\n",
       "      <td>NaN</td>\n",
       "      <td>NaN</td>\n",
       "    </tr>\n",
       "    <tr>\n",
       "      <th>2</th>\n",
       "      <td>7905-Alophia-Dr,-Austin,-TX-78739</td>\n",
       "      <td>7905 Alophia Dr, Austin, TX 78739</td>\n",
       "      <td>7905 Alophia Dr</td>\n",
       "      <td>None</td>\n",
       "      <td>Austin</td>\n",
       "      <td>TX</td>\n",
       "      <td>78739</td>\n",
       "      <td>Travis</td>\n",
       "      <td>30.188719</td>\n",
       "      <td>-97.921667</td>\n",
       "      <td>...</td>\n",
       "      <td>3100</td>\n",
       "      <td>Standard</td>\n",
       "      <td>2025-08-21T00:00:00.000Z</td>\n",
       "      <td>NaN</td>\n",
       "      <td>2025-08-12T00:00:00.000Z</td>\n",
       "      <td>2025-08-21T03:55:22.609Z</td>\n",
       "      <td>1</td>\n",
       "      <td>{'2025-08-21': {'event': 'Rental Listing', 'pr...</td>\n",
       "      <td>NaN</td>\n",
       "      <td>NaN</td>\n",
       "    </tr>\n",
       "    <tr>\n",
       "      <th>3</th>\n",
       "      <td>2510-San-Gabriel-St,-Apt-301,-Austin,-TX-78705</td>\n",
       "      <td>2510 San Gabriel St, Apt 301, Austin, TX 78705</td>\n",
       "      <td>2510 San Gabriel St</td>\n",
       "      <td>Apt 301</td>\n",
       "      <td>Austin</td>\n",
       "      <td>TX</td>\n",
       "      <td>78705</td>\n",
       "      <td>Travis</td>\n",
       "      <td>30.290630</td>\n",
       "      <td>-97.747816</td>\n",
       "      <td>...</td>\n",
       "      <td>1400</td>\n",
       "      <td>Standard</td>\n",
       "      <td>2025-08-21T00:00:00.000Z</td>\n",
       "      <td>NaN</td>\n",
       "      <td>2024-05-04T00:00:00.000Z</td>\n",
       "      <td>2025-08-21T03:55:22.608Z</td>\n",
       "      <td>1</td>\n",
       "      <td>{'2025-08-21': {'event': 'Rental Listing', 'pr...</td>\n",
       "      <td>919.0</td>\n",
       "      <td>1984.0</td>\n",
       "    </tr>\n",
       "    <tr>\n",
       "      <th>4</th>\n",
       "      <td>1010-W-26th-St,---407,-Austin,-TX-78705</td>\n",
       "      <td>1010 W 26th St, # 407, Austin, TX 78705</td>\n",
       "      <td>1010 W 26th St</td>\n",
       "      <td># 407</td>\n",
       "      <td>Austin</td>\n",
       "      <td>TX</td>\n",
       "      <td>78705</td>\n",
       "      <td>Travis</td>\n",
       "      <td>30.291246</td>\n",
       "      <td>-97.748886</td>\n",
       "      <td>...</td>\n",
       "      <td>1100</td>\n",
       "      <td>Standard</td>\n",
       "      <td>2025-08-21T00:00:00.000Z</td>\n",
       "      <td>NaN</td>\n",
       "      <td>2025-08-21T00:00:00.000Z</td>\n",
       "      <td>2025-08-21T03:55:22.607Z</td>\n",
       "      <td>1</td>\n",
       "      <td>{'2025-08-21': {'event': 'Rental Listing', 'pr...</td>\n",
       "      <td>NaN</td>\n",
       "      <td>NaN</td>\n",
       "    </tr>\n",
       "  </tbody>\n",
       "</table>\n",
       "<p>5 rows × 25 columns</p>\n",
       "</div>"
      ],
      "text/plain": [
       "                                               id  \\\n",
       "0           2200A-Rio-Grande-St,-Austin,-TX-78705   \n",
       "1        11701-Ruffed-Grouse-Dr,-Austin,-TX-78758   \n",
       "2               7905-Alophia-Dr,-Austin,-TX-78739   \n",
       "3  2510-San-Gabriel-St,-Apt-301,-Austin,-TX-78705   \n",
       "4         1010-W-26th-St,---407,-Austin,-TX-78705   \n",
       "\n",
       "                                 formattedAddress            addressLine1  \\\n",
       "0           2200A Rio Grande St, Austin, TX 78705     2200A Rio Grande St   \n",
       "1        11701 Ruffed Grouse Dr, Austin, TX 78758  11701 Ruffed Grouse Dr   \n",
       "2               7905 Alophia Dr, Austin, TX 78739         7905 Alophia Dr   \n",
       "3  2510 San Gabriel St, Apt 301, Austin, TX 78705     2510 San Gabriel St   \n",
       "4         1010 W 26th St, # 407, Austin, TX 78705          1010 W 26th St   \n",
       "\n",
       "  addressLine2    city state  zipCode  county   latitude  longitude  ...  \\\n",
       "0         None  Austin    TX    78705  Travis  30.285497 -97.745112  ...   \n",
       "1         None  Austin    TX    78758  Travis  30.393156 -97.699847  ...   \n",
       "2         None  Austin    TX    78739  Travis  30.188719 -97.921667  ...   \n",
       "3      Apt 301  Austin    TX    78705  Travis  30.290630 -97.747816  ...   \n",
       "4        # 407  Austin    TX    78705  Travis  30.291246 -97.748886  ...   \n",
       "\n",
       "  price  listingType                listedDate  removedDate  \\\n",
       "0  2500     Standard  2025-08-21T00:00:00.000Z          NaN   \n",
       "1  1995     Standard  2025-08-21T00:00:00.000Z          NaN   \n",
       "2  3100     Standard  2025-08-21T00:00:00.000Z          NaN   \n",
       "3  1400     Standard  2025-08-21T00:00:00.000Z          NaN   \n",
       "4  1100     Standard  2025-08-21T00:00:00.000Z          NaN   \n",
       "\n",
       "                createdDate              lastSeenDate daysOnMarket  \\\n",
       "0  2019-05-17T18:40:17.882Z  2025-08-21T03:55:22.610Z            1   \n",
       "1  2019-09-27T03:32:42.191Z  2025-08-21T03:55:22.609Z            1   \n",
       "2  2025-08-12T00:00:00.000Z  2025-08-21T03:55:22.609Z            1   \n",
       "3  2024-05-04T00:00:00.000Z  2025-08-21T03:55:22.608Z            1   \n",
       "4  2025-08-21T00:00:00.000Z  2025-08-21T03:55:22.607Z            1   \n",
       "\n",
       "                                             history  lotSize yearBuilt  \n",
       "0  {'2025-05-09': {'event': 'Rental Listing', 'pr...      NaN       NaN  \n",
       "1  {'2025-08-21': {'event': 'Rental Listing', 'pr...      NaN       NaN  \n",
       "2  {'2025-08-21': {'event': 'Rental Listing', 'pr...      NaN       NaN  \n",
       "3  {'2025-08-21': {'event': 'Rental Listing', 'pr...    919.0    1984.0  \n",
       "4  {'2025-08-21': {'event': 'Rental Listing', 'pr...      NaN       NaN  \n",
       "\n",
       "[5 rows x 25 columns]"
      ]
     },
     "execution_count": 18,
     "metadata": {},
     "output_type": "execute_result"
    }
   ],
   "source": [
    "real_estate_df = pd.read_json('real_estate.json')\n",
    "real_estate_df.head()"
   ]
  },
  {
   "cell_type": "code",
   "execution_count": 19,
   "id": "220dc03c",
   "metadata": {},
   "outputs": [
    {
     "data": {
      "text/plain": [
       "Index(['id', 'formattedAddress', 'addressLine1', 'addressLine2', 'city',\n",
       "       'state', 'zipCode', 'county', 'latitude', 'longitude', 'propertyType',\n",
       "       'bedrooms', 'bathrooms', 'squareFootage', 'status', 'price',\n",
       "       'listingType', 'listedDate', 'removedDate', 'createdDate',\n",
       "       'lastSeenDate', 'daysOnMarket', 'history', 'lotSize', 'yearBuilt'],\n",
       "      dtype='object')"
      ]
     },
     "execution_count": 19,
     "metadata": {},
     "output_type": "execute_result"
    }
   ],
   "source": [
    "real_estate_df.columns"
   ]
  },
  {
   "cell_type": "code",
   "execution_count": 20,
   "id": "553a7e95",
   "metadata": {},
   "outputs": [
    {
     "name": "stdout",
     "output_type": "stream",
     "text": [
      "<class 'pandas.core.frame.DataFrame'>\n",
      "RangeIndex: 5 entries, 0 to 4\n",
      "Data columns (total 25 columns):\n",
      " #   Column            Non-Null Count  Dtype  \n",
      "---  ------            --------------  -----  \n",
      " 0   id                5 non-null      object \n",
      " 1   formattedAddress  5 non-null      object \n",
      " 2   addressLine1      5 non-null      object \n",
      " 3   addressLine2      2 non-null      object \n",
      " 4   city              5 non-null      object \n",
      " 5   state             5 non-null      object \n",
      " 6   zipCode           5 non-null      int64  \n",
      " 7   county            5 non-null      object \n",
      " 8   latitude          5 non-null      float64\n",
      " 9   longitude         5 non-null      float64\n",
      " 10  propertyType      5 non-null      object \n",
      " 11  bedrooms          5 non-null      int64  \n",
      " 12  bathrooms         5 non-null      float64\n",
      " 13  squareFootage     5 non-null      int64  \n",
      " 14  status            5 non-null      object \n",
      " 15  price             5 non-null      int64  \n",
      " 16  listingType       5 non-null      object \n",
      " 17  listedDate        5 non-null      object \n",
      " 18  removedDate       0 non-null      float64\n",
      " 19  createdDate       5 non-null      object \n",
      " 20  lastSeenDate      5 non-null      object \n",
      " 21  daysOnMarket      5 non-null      int64  \n",
      " 22  history           5 non-null      object \n",
      " 23  lotSize           1 non-null      float64\n",
      " 24  yearBuilt         1 non-null      float64\n",
      "dtypes: float64(6), int64(5), object(14)\n",
      "memory usage: 1.1+ KB\n"
     ]
    }
   ],
   "source": [
    "real_estate_df.info()"
   ]
  },
  {
   "cell_type": "code",
   "execution_count": null,
   "id": "d4e4787d",
   "metadata": {},
   "outputs": [],
   "source": []
  }
 ],
 "metadata": {
  "kernelspec": {
   "display_name": "Python 3",
   "language": "python",
   "name": "python3"
  },
  "language_info": {
   "codemirror_mode": {
    "name": "ipython",
    "version": 3
   },
   "file_extension": ".py",
   "mimetype": "text/x-python",
   "name": "python",
   "nbconvert_exporter": "python",
   "pygments_lexer": "ipython3",
   "version": "3.13.2"
  }
 },
 "nbformat": 4,
 "nbformat_minor": 5
}
